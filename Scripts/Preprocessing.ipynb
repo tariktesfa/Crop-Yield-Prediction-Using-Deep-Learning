{
  "cells": [
    {
      "cell_type": "code",
      "execution_count": 444,
      "metadata": {
        "id": "aoeo4r142WDm"
      },
      "outputs": [],
      "source": [
        "import pandas as pd\n",
        "import numpy as np\n",
        "from sklearn.preprocessing import FunctionTransformer\n",
        "from sklearn.pipeline import Pipeline\n",
        "\n",
        "path = \"drive/MyDrive/Capstone/\"\n",
        "crop_1 = \"Barley\"\n",
        "crop_2 = \"Maize\"\n",
        "crop_6 = \"Sorghum\"\n",
        "crop_7 = \"Teff\"\n",
        "crop_8 = \"Wheat\"\n",
        "\n",
        "year = \"2021\"\n",
        "\n",
        "df = pd.read_excel(f\"{path}Meher_{year}.xlsx\")"
      ]
    },
    {
      "cell_type": "code",
      "execution_count": 445,
      "metadata": {
        "colab": {
          "base_uri": "https://localhost:8080/"
        },
        "id": "c4RlvP6kTKJy",
        "outputId": "608f6ad8-3351-4ebb-fa5b-e8b696c24def"
      },
      "outputs": [
        {
          "output_type": "execute_result",
          "data": {
            "text/plain": [
              "Index(['Region', 'Zone', 'District', 'Farmers Association', 'Enumeration Area',\n",
              "       'Household Id', 'Head sex', 'Sampling weight', 'Field type', 'CROP',\n",
              "       'Ownership type', 'Is field under Extension Program?',\n",
              "       'Is Field Irrigated?', 'How many times is the field ploughed',\n",
              "       'Orientation of the field', 'Is Field Prevented form Erosion',\n",
              "       'If field Prevented form Erosion, common way of prevention',\n",
              "       'Do youprevent land Degradation', 'Method to prevent land degredation',\n",
              "       'Type of sowing', 'Seed / Seedling Type',\n",
              "       'Quantity of improved seeds used', 'Quantity of indigenous seeds used',\n",
              "       'Was crop damaged ?', 'Percent of damaged crop',\n",
              "       'Prevention/precaution measure taken?', 'Type of measure if any?',\n",
              "       'Is Fertilizer Used?', 'Type of fertilizer used if any?',\n",
              "       'Type of chemical fertilizer', 'Quantity of UREA fertilizer used',\n",
              "       'Quantity of DAP fertilizer used', 'Quantity of NPS fertilizer used,',\n",
              "       'Quantity of BLENDED fertilizer used',\n",
              "       'How often is temporary crop field used in Meher (main) season',\n",
              "       'What was the previous state of the field ?',\n",
              "       'Percent share of mixed crops', 'Area in Square meter',\n",
              "       'Respondent local area', 'Respondent local area code',\n",
              "       'Holder Condition', 'Production Of Condition in Kg'],\n",
              "      dtype='object')"
            ]
          },
          "metadata": {},
          "execution_count": 445
        }
      ],
      "source": [
        "df.columns\n"
      ]
    },
    {
      "cell_type": "code",
      "execution_count": 446,
      "metadata": {
        "id": "fSxxbVw_TTUG",
        "colab": {
          "base_uri": "https://localhost:8080/"
        },
        "outputId": "48db0ea2-ea52-467e-861b-b72f2b6ecb81"
      },
      "outputs": [
        {
          "output_type": "execute_result",
          "data": {
            "text/plain": [
              "['Quantity of UREA fertilizer used',\n",
              " 'Quantity of DAP fertilizer used',\n",
              " 'Quantity of NPS fertilizer used,',\n",
              " 'Quantity of BLENDED fertilizer used']"
            ]
          },
          "metadata": {},
          "execution_count": 446
        }
      ],
      "source": [
        "fertilizer_qty_features = []\n",
        "       \n",
        "if year == \"2010\":\n",
        "  fertilizer_qty_features =['If Chemical Fertilizer,Quantity in KG']\n",
        "\n",
        "if year == \"2011\":\n",
        "  fertilizer_qty_features = ['Quantity of chemical fertilizer used']\n",
        "\n",
        "if year == \"2012\":  \n",
        "  fertilizer_qty_features = ['Quantity of UREA chemical fertilizer used',\n",
        "       'Quantity of DAP chemical fertilizer used',\n",
        "       'Quantity of Both UREA and DAP chemical fertilizer used']\n",
        "\n",
        "if year == \"2013\":\n",
        "  fertilizer_qty_features = [\"D22B\", \"D22C\", \"D22D\", \"D22E\"]\n",
        "\n",
        "if year in (\"2014\", \"2015\"):\n",
        "  fertilizer_qty_features = ['Quantity of UREA fertilizer used', 'Quantity of DAP fertilizer used',\n",
        "       'Quantity of UREA fertilizer used, if both DAP and UREA are used',\n",
        "       'Quantity of DAP fertilizer used, if both DAP and UREA are used',]\n",
        "\n",
        "if year == \"2016\":\n",
        "  fertilizer_qty_features = ['Quantity of UREA fertilizer used', 'Quantity of DAP fertilizer used',\n",
        "       'Quantity of UREA fertilizer used, if both DAP and UREA are used',\n",
        "       'Quantity of DAP fertilizer used, if both DAP and UREA are used',\n",
        "       'Quantity of OTHER fertilizer used',]\n",
        "\n",
        "if year == \"2017\":\n",
        "  fertilizer_qty_features = [ 'Quantity of UREA fertilizer used', 'Quantity of DAP fertilizer used',\n",
        "       'Quantity of UREA fertilizer used, if both DAP and UREA are used',\n",
        "       'Quantity of DAP fertilizer used, if both DAP and UREA are used',\n",
        "       'Quantity of OTHER fertilizer used',\n",
        "       'Quantity of UREA IF both UREA and NPS are used',\n",
        "       'Quantity of NPS IF both UREA and NPS are used',]\n",
        "       \n",
        "if year == \"2018\":\n",
        "  fertilizer_qty_features = [  'Quantity of UREA fertilizer used', 'Quantity of DAP fertilizer used',\n",
        "       'Quantity of UREA fertilizer used, if both DAP and UREA are used',\n",
        "       'Quantity of DAP fertilizer used, if both DAP and UREA are used',\n",
        "       'Quantity of NPS fertilizer used',\n",
        "       'Quantity of UREA IF both UREA and NPS are used',\n",
        "       'Quantity of NPS IF both UREA and NPS are used',\n",
        "       'Quantity of OTHER fertilizer used', ]\n",
        "              \n",
        "if year == \"2019\":\n",
        "  fertilizer_qty_features = ['Quantity of UREA fertilizer used', 'Quantity of DAP fertilizer used',\n",
        "       'Quantity of NPS fertilizer used,', 'Quantity of MIXED fertilizer used',\n",
        "       'If natural fertilizer used, type', ]\n",
        "\n",
        "if year == \"2020\":\n",
        "  fertilizer_qty_features = ['Quantity of UREA fertilizer used', 'Quantity of DAP fertilizer used',\n",
        "       'Quantity of NPS fertilizer used,',\n",
        "       'Quantity of BLENDED fertilizer used',]\n",
        "\n",
        "if year == \"2021\":\n",
        "  fertilizer_qty_features = ['Quantity of UREA fertilizer used',\n",
        "       'Quantity of DAP fertilizer used', 'Quantity of NPS fertilizer used,',\n",
        "       'Quantity of BLENDED fertilizer used',]\n",
        "       \n",
        "fertilizer_qty_features"
      ]
    },
    {
      "cell_type": "code",
      "execution_count": 447,
      "metadata": {
        "id": "uCXYC-iGTw_m"
      },
      "outputs": [],
      "source": [
        "df[fertilizer_qty_features] = df[fertilizer_qty_features].fillna(0)"
      ]
    },
    {
      "cell_type": "code",
      "execution_count": 448,
      "metadata": {
        "id": "rU3GaXJvT95K"
      },
      "outputs": [],
      "source": [
        "df[\"Fertilizer Quantity\"] = df[fertilizer_qty_features].sum(axis=1)"
      ]
    },
    {
      "cell_type": "code",
      "execution_count": 449,
      "metadata": {
        "colab": {
          "base_uri": "https://localhost:8080/"
        },
        "id": "ksmbPZd1UeOT",
        "outputId": "b5b15ed6-8e76-4909-9727-ecbb227c8b6e"
      },
      "outputs": [
        {
          "output_type": "execute_result",
          "data": {
            "text/plain": [
              "count    109438.000000\n",
              "mean         26.981411\n",
              "std          54.221755\n",
              "min           0.000000\n",
              "25%           0.000000\n",
              "50%           6.000000\n",
              "75%          37.500000\n",
              "max        6150.000000\n",
              "Name: Fertilizer Quantity, dtype: float64"
            ]
          },
          "metadata": {},
          "execution_count": 449
        }
      ],
      "source": [
        "df[\"Fertilizer Quantity\"].describe()"
      ]
    },
    {
      "cell_type": "code",
      "execution_count": 450,
      "metadata": {
        "colab": {
          "base_uri": "https://localhost:8080/"
        },
        "id": "TsF8wRVgVRdP",
        "outputId": "ced2483a-b7e0-4aa7-dc10-89e9ab34d82f"
      },
      "outputs": [
        {
          "output_type": "execute_result",
          "data": {
            "text/plain": [
              "300.0"
            ]
          },
          "metadata": {},
          "execution_count": 450
        }
      ],
      "source": [
        "fert_threshold = df[\"Fertilizer Quantity\"].quantile(.995)\n",
        "fert_threshold"
      ]
    },
    {
      "cell_type": "code",
      "execution_count": 451,
      "metadata": {
        "id": "rTbnMRRLYO9l"
      },
      "outputs": [],
      "source": [
        "df = df[df[\"Fertilizer Quantity\"] < fert_threshold]"
      ]
    },
    {
      "cell_type": "code",
      "execution_count": 452,
      "metadata": {
        "colab": {
          "base_uri": "https://localhost:8080/"
        },
        "id": "13S4Jjbf5SRh",
        "outputId": "33506c10-c7b5-4d6a-dadc-0d349567e510"
      },
      "outputs": [
        {
          "output_type": "execute_result",
          "data": {
            "text/plain": [
              "(108848, 43)"
            ]
          },
          "metadata": {},
          "execution_count": 452
        }
      ],
      "source": [
        "df.shape"
      ]
    },
    {
      "cell_type": "code",
      "execution_count": 453,
      "metadata": {
        "colab": {
          "base_uri": "https://localhost:8080/"
        },
        "id": "t49As5N-a9Js",
        "outputId": "4293c1a4-be61-4cbb-e9a2-ce0c3ac7f1e9"
      },
      "outputs": [
        {
          "output_type": "execute_result",
          "data": {
            "text/plain": [
              "(108848, 40)"
            ]
          },
          "metadata": {},
          "execution_count": 453
        }
      ],
      "source": [
        "df = df.dropna(axis=1, thresh=df.shape[0]/2)\n",
        "df.shape"
      ]
    },
    {
      "cell_type": "code",
      "execution_count": 454,
      "metadata": {
        "colab": {
          "base_uri": "https://localhost:8080/"
        },
        "id": "LbY4_9H5DFlw",
        "outputId": "38362939-4297-4e0e-fe5b-85d0872e94d2"
      },
      "outputs": [
        {
          "output_type": "execute_result",
          "data": {
            "text/plain": [
              "Index(['Region', 'Zone', 'District', 'Farmers Association', 'Enumeration Area',\n",
              "       'Household Id', 'Head sex', 'Sampling weight', 'Field type', 'CROP',\n",
              "       'Ownership type', 'Is field under Extension Program?',\n",
              "       'Is Field Irrigated?', 'How many times is the field ploughed',\n",
              "       'Orientation of the field', 'Is Field Prevented form Erosion',\n",
              "       'If field Prevented form Erosion, common way of prevention',\n",
              "       'Do youprevent land Degradation', 'Method to prevent land degredation',\n",
              "       'Type of sowing', 'Seed / Seedling Type',\n",
              "       'Quantity of indigenous seeds used', 'Was crop damaged ?',\n",
              "       'Prevention/precaution measure taken?', 'Type of measure if any?',\n",
              "       'Is Fertilizer Used?', 'Type of fertilizer used if any?',\n",
              "       'Type of chemical fertilizer', 'Quantity of UREA fertilizer used',\n",
              "       'Quantity of DAP fertilizer used', 'Quantity of NPS fertilizer used,',\n",
              "       'Quantity of BLENDED fertilizer used',\n",
              "       'How often is temporary crop field used in Meher (main) season',\n",
              "       'What was the previous state of the field ?',\n",
              "       'Percent share of mixed crops', 'Area in Square meter',\n",
              "       'Respondent local area', 'Holder Condition',\n",
              "       'Production Of Condition in Kg', 'Fertilizer Quantity'],\n",
              "      dtype='object')"
            ]
          },
          "metadata": {},
          "execution_count": 454
        }
      ],
      "source": [
        "df.columns"
      ]
    },
    {
      "cell_type": "code",
      "execution_count": 455,
      "metadata": {
        "id": "8r7bpxa-UfNh"
      },
      "outputs": [],
      "source": [
        "area = \"Area in Square meter\"\n",
        "production = \"Production Of Condition in Kg\"\n",
        "crop = \"CROP\"\n",
        "region = \"Region\"\n",
        "district = \"District\"\n",
        "\n",
        "if year == \"2013\":\n",
        "  area = \"AREA\"\n",
        "\n",
        "if year == \"2012\":\n",
        "  area = \"Computed Area\"\n",
        "  production = \"PRODUCTION\"\n",
        "  \n",
        "if year == \"2011\":\n",
        "  area = \"Area in Hectare\"\n",
        "  production = \"PRODUCTION IN QUINTALS\"\n",
        "  \n",
        "if year == \"2010\":\n",
        "  area = \"AREAH\"\n",
        "  production = \"PRODUCTION IN QUINTALS\"\n",
        "  \n",
        "if year == \"2009\":\n",
        "  area = \"Area in hectare\"\n",
        "  production = \"Production in Quintal\"\n",
        "  crop = \"Crop or Landuse\"\n",
        "  \n",
        "if year == \"2008\":\n",
        "  area = \"Area (sq. m.)\"\n",
        "  production = \"Production in Quintal\"\n",
        "  crop = \"Crop or Land Use\"\n",
        "  \n",
        "if year == \"2007\":\n",
        "  area = \"Area in Hectare\"\n",
        "  production = \"Production in Quintal\"\n",
        "  \n",
        "if year == \"2006\":\n",
        "  region = \"Killil\"\n",
        "  district = \"Wereda\"\n",
        "  area = \"Area in hectar\"\n",
        "  production = \"Production in Quintal\"\n",
        "    \n",
        "if year == \"2005\":\n",
        "  region = \"Killil\"\n",
        "  district = \"Wereda\"\n",
        "  area = \"Area (sq. m.)\"\n",
        "  production = \"Production in Quintal\"\n",
        "  crop = \"Crop or Land Use\"\n",
        "    \n",
        "if year == \"2004\":\n",
        "  district = \"District(Wereda)\"\n",
        "  area = \"Area (sq. m.)\"\n",
        "  production = \"Dry Weight Production (kg.)\"\n",
        "  crop = \"Crop or Land Use\"\n",
        "    \n"
      ]
    },
    {
      "cell_type": "code",
      "execution_count": 456,
      "metadata": {
        "colab": {
          "base_uri": "https://localhost:8080/",
          "height": 300
        },
        "id": "8XwcrqdPHsL8",
        "outputId": "5ab003b4-b560-43db-a654-cc6ae8354d46"
      },
      "outputs": [
        {
          "output_type": "execute_result",
          "data": {
            "text/plain": [
              "       Production Of Condition in Kg\n",
              "count                  108777.000000\n",
              "mean                      539.852285\n",
              "std                      1269.172642\n",
              "min                         0.000000\n",
              "25%                        81.259000\n",
              "50%                       258.394000\n",
              "75%                       630.096000\n",
              "max                    144259.227000"
            ],
            "text/html": [
              "\n",
              "  <div id=\"df-c182364e-a8d7-4d02-be7b-7dd15ede6e50\">\n",
              "    <div class=\"colab-df-container\">\n",
              "      <div>\n",
              "<style scoped>\n",
              "    .dataframe tbody tr th:only-of-type {\n",
              "        vertical-align: middle;\n",
              "    }\n",
              "\n",
              "    .dataframe tbody tr th {\n",
              "        vertical-align: top;\n",
              "    }\n",
              "\n",
              "    .dataframe thead th {\n",
              "        text-align: right;\n",
              "    }\n",
              "</style>\n",
              "<table border=\"1\" class=\"dataframe\">\n",
              "  <thead>\n",
              "    <tr style=\"text-align: right;\">\n",
              "      <th></th>\n",
              "      <th>Production Of Condition in Kg</th>\n",
              "    </tr>\n",
              "  </thead>\n",
              "  <tbody>\n",
              "    <tr>\n",
              "      <th>count</th>\n",
              "      <td>108777.000000</td>\n",
              "    </tr>\n",
              "    <tr>\n",
              "      <th>mean</th>\n",
              "      <td>539.852285</td>\n",
              "    </tr>\n",
              "    <tr>\n",
              "      <th>std</th>\n",
              "      <td>1269.172642</td>\n",
              "    </tr>\n",
              "    <tr>\n",
              "      <th>min</th>\n",
              "      <td>0.000000</td>\n",
              "    </tr>\n",
              "    <tr>\n",
              "      <th>25%</th>\n",
              "      <td>81.259000</td>\n",
              "    </tr>\n",
              "    <tr>\n",
              "      <th>50%</th>\n",
              "      <td>258.394000</td>\n",
              "    </tr>\n",
              "    <tr>\n",
              "      <th>75%</th>\n",
              "      <td>630.096000</td>\n",
              "    </tr>\n",
              "    <tr>\n",
              "      <th>max</th>\n",
              "      <td>144259.227000</td>\n",
              "    </tr>\n",
              "  </tbody>\n",
              "</table>\n",
              "</div>\n",
              "      <button class=\"colab-df-convert\" onclick=\"convertToInteractive('df-c182364e-a8d7-4d02-be7b-7dd15ede6e50')\"\n",
              "              title=\"Convert this dataframe to an interactive table.\"\n",
              "              style=\"display:none;\">\n",
              "        \n",
              "  <svg xmlns=\"http://www.w3.org/2000/svg\" height=\"24px\"viewBox=\"0 0 24 24\"\n",
              "       width=\"24px\">\n",
              "    <path d=\"M0 0h24v24H0V0z\" fill=\"none\"/>\n",
              "    <path d=\"M18.56 5.44l.94 2.06.94-2.06 2.06-.94-2.06-.94-.94-2.06-.94 2.06-2.06.94zm-11 1L8.5 8.5l.94-2.06 2.06-.94-2.06-.94L8.5 2.5l-.94 2.06-2.06.94zm10 10l.94 2.06.94-2.06 2.06-.94-2.06-.94-.94-2.06-.94 2.06-2.06.94z\"/><path d=\"M17.41 7.96l-1.37-1.37c-.4-.4-.92-.59-1.43-.59-.52 0-1.04.2-1.43.59L10.3 9.45l-7.72 7.72c-.78.78-.78 2.05 0 2.83L4 21.41c.39.39.9.59 1.41.59.51 0 1.02-.2 1.41-.59l7.78-7.78 2.81-2.81c.8-.78.8-2.07 0-2.86zM5.41 20L4 18.59l7.72-7.72 1.47 1.35L5.41 20z\"/>\n",
              "  </svg>\n",
              "      </button>\n",
              "      \n",
              "  <style>\n",
              "    .colab-df-container {\n",
              "      display:flex;\n",
              "      flex-wrap:wrap;\n",
              "      gap: 12px;\n",
              "    }\n",
              "\n",
              "    .colab-df-convert {\n",
              "      background-color: #E8F0FE;\n",
              "      border: none;\n",
              "      border-radius: 50%;\n",
              "      cursor: pointer;\n",
              "      display: none;\n",
              "      fill: #1967D2;\n",
              "      height: 32px;\n",
              "      padding: 0 0 0 0;\n",
              "      width: 32px;\n",
              "    }\n",
              "\n",
              "    .colab-df-convert:hover {\n",
              "      background-color: #E2EBFA;\n",
              "      box-shadow: 0px 1px 2px rgba(60, 64, 67, 0.3), 0px 1px 3px 1px rgba(60, 64, 67, 0.15);\n",
              "      fill: #174EA6;\n",
              "    }\n",
              "\n",
              "    [theme=dark] .colab-df-convert {\n",
              "      background-color: #3B4455;\n",
              "      fill: #D2E3FC;\n",
              "    }\n",
              "\n",
              "    [theme=dark] .colab-df-convert:hover {\n",
              "      background-color: #434B5C;\n",
              "      box-shadow: 0px 1px 3px 1px rgba(0, 0, 0, 0.15);\n",
              "      filter: drop-shadow(0px 1px 2px rgba(0, 0, 0, 0.3));\n",
              "      fill: #FFFFFF;\n",
              "    }\n",
              "  </style>\n",
              "\n",
              "      <script>\n",
              "        const buttonEl =\n",
              "          document.querySelector('#df-c182364e-a8d7-4d02-be7b-7dd15ede6e50 button.colab-df-convert');\n",
              "        buttonEl.style.display =\n",
              "          google.colab.kernel.accessAllowed ? 'block' : 'none';\n",
              "\n",
              "        async function convertToInteractive(key) {\n",
              "          const element = document.querySelector('#df-c182364e-a8d7-4d02-be7b-7dd15ede6e50');\n",
              "          const dataTable =\n",
              "            await google.colab.kernel.invokeFunction('convertToInteractive',\n",
              "                                                     [key], {});\n",
              "          if (!dataTable) return;\n",
              "\n",
              "          const docLinkHtml = 'Like what you see? Visit the ' +\n",
              "            '<a target=\"_blank\" href=https://colab.research.google.com/notebooks/data_table.ipynb>data table notebook</a>'\n",
              "            + ' to learn more about interactive tables.';\n",
              "          element.innerHTML = '';\n",
              "          dataTable['output_type'] = 'display_data';\n",
              "          await google.colab.output.renderOutput(dataTable, element);\n",
              "          const docLink = document.createElement('div');\n",
              "          docLink.innerHTML = docLinkHtml;\n",
              "          element.appendChild(docLink);\n",
              "        }\n",
              "      </script>\n",
              "    </div>\n",
              "  </div>\n",
              "  "
            ]
          },
          "metadata": {},
          "execution_count": 456
        }
      ],
      "source": [
        "df[[area]].describe()\n",
        "df[[production]].describe()"
      ]
    },
    {
      "cell_type": "code",
      "execution_count": 457,
      "metadata": {
        "colab": {
          "base_uri": "https://localhost:8080/"
        },
        "id": "214Se1iBK87v",
        "outputId": "3e28f15d-5f56-4981-dde8-ee07a9128395"
      },
      "outputs": [
        {
          "output_type": "execute_result",
          "data": {
            "text/plain": [
              "(51.0, 6357.0)"
            ]
          },
          "metadata": {},
          "execution_count": 457
        }
      ],
      "source": [
        "min_threshold, max_threshold = df[[area]].quantile([0.05, 0.95]).values[:, 0]\n",
        "min_threshold, max_threshold"
      ]
    },
    {
      "cell_type": "code",
      "execution_count": 458,
      "metadata": {
        "id": "V8rvOac0QK1x"
      },
      "outputs": [],
      "source": [
        "df = df[(df[area] > min_threshold) & (df[area] < max_threshold)]"
      ]
    },
    {
      "cell_type": "code",
      "execution_count": 459,
      "metadata": {
        "colab": {
          "base_uri": "https://localhost:8080/"
        },
        "id": "trLa_1JTQjhk",
        "outputId": "32bfd766-de1f-4800-8f60-7a9505689501"
      },
      "outputs": [
        {
          "output_type": "execute_result",
          "data": {
            "text/plain": [
              "(97938, 40)"
            ]
          },
          "metadata": {},
          "execution_count": 459
        }
      ],
      "source": [
        "df.shape"
      ]
    },
    {
      "cell_type": "code",
      "execution_count": 460,
      "metadata": {
        "colab": {
          "base_uri": "https://localhost:8080/"
        },
        "id": "aNajJ7yBAcL9",
        "outputId": "28c4cdbe-1a07-499b-815b-841630236db6"
      },
      "outputs": [
        {
          "output_type": "execute_result",
          "data": {
            "text/plain": [
              "(97880, 40)"
            ]
          },
          "metadata": {},
          "execution_count": 460
        }
      ],
      "source": [
        "df_valid = df.dropna(subset=[region, \"Zone\", district, crop, area, production])\n",
        "df_valid.shape"
      ]
    },
    {
      "cell_type": "code",
      "execution_count": 461,
      "metadata": {
        "colab": {
          "base_uri": "https://localhost:8080/"
        },
        "id": "1-TsXFaRp5tQ",
        "outputId": "e83cf295-d36e-479e-cfec-92e9fe2527b0"
      },
      "outputs": [
        {
          "output_type": "execute_result",
          "data": {
            "text/plain": [
              "Region                                                              11\n",
              "Zone                                                                21\n",
              "District                                                            25\n",
              "Farmers Association                                                 58\n",
              "Enumeration Area                                                    24\n",
              "Household Id                                                       248\n",
              "Head sex                                                             2\n",
              "Sampling weight                                                   2026\n",
              "Field type                                                           2\n",
              "CROP                                                                 5\n",
              "Ownership type                                                       4\n",
              "Is field under Extension Program?                                    2\n",
              "Is Field Irrigated?                                                  2\n",
              "How many times is the field ploughed                                 5\n",
              "Orientation of the field                                             3\n",
              "Is Field Prevented form Erosion                                      2\n",
              "If field Prevented form Erosion, common way of prevention            8\n",
              "Do youprevent land Degradation                                       2\n",
              "Method to prevent land degredation                                   8\n",
              "Type of sowing                                                       2\n",
              "Seed / Seedling Type                                                 2\n",
              "Quantity of indigenous seeds used                                 3569\n",
              "Was crop damaged ?                                                   2\n",
              "Prevention/precaution measure taken?                                 2\n",
              "Type of measure if any?                                              3\n",
              "Is Fertilizer Used?                                                  2\n",
              "Type of fertilizer used if any?                                      3\n",
              "Type of chemical fertilizer                                          6\n",
              "Quantity of UREA fertilizer used                                  1282\n",
              "Quantity of DAP fertilizer used                                    127\n",
              "Quantity of NPS fertilizer used,                                  1117\n",
              "Quantity of BLENDED fertilizer used                                639\n",
              "How often is temporary crop field used in Meher (main) season        4\n",
              "What was the previous state of the field ?                           8\n",
              "Percent share of mixed crops                                        69\n",
              "Area in Square meter                                             48125\n",
              "Respondent local area                                              722\n",
              "Holder Condition                                                   161\n",
              "Production Of Condition in Kg                                    89470\n",
              "Fertilizer Quantity                                               2341\n",
              "dtype: int64"
            ]
          },
          "metadata": {},
          "execution_count": 461
        }
      ],
      "source": [
        "df.nunique()"
      ]
    },
    {
      "cell_type": "code",
      "execution_count": 462,
      "metadata": {
        "colab": {
          "base_uri": "https://localhost:8080/"
        },
        "id": "GyQh2oDhQ3B5",
        "outputId": "2e98dfd9-8e4d-4f13-d4b3-30f6d55fbbce"
      },
      "outputs": [
        {
          "output_type": "stream",
          "name": "stdout",
          "text": [
            "Categorical Values (Nominal)\n",
            "['Region', 'Zone', 'District', 'Farmers Association', 'Enumeration Area', 'Head sex', 'Field type', 'CROP', 'Ownership type', 'Is field under Extension Program?', 'Is Field Irrigated?', 'How many times is the field ploughed', 'Orientation of the field', 'Is Field Prevented form Erosion', 'If field Prevented form Erosion, common way of prevention', 'Do youprevent land Degradation', 'Method to prevent land degredation', 'Type of sowing', 'Seed / Seedling Type', 'Was crop damaged ?', 'Prevention/precaution measure taken?', 'Type of measure if any?', 'Is Fertilizer Used?', 'Type of fertilizer used if any?', 'Type of chemical fertilizer', 'How often is temporary crop field used in Meher (main) season', 'What was the previous state of the field ?', 'Percent share of mixed crops']\n",
            "\n",
            "Categorical Values (Nominal)\n",
            "['Household Id', 'Sampling weight', 'Quantity of indigenous seeds used', 'Quantity of UREA fertilizer used', 'Quantity of DAP fertilizer used', 'Quantity of NPS fertilizer used,', 'Quantity of BLENDED fertilizer used', 'Area in Square meter', 'Respondent local area', 'Holder Condition', 'Production Of Condition in Kg', 'Fertilizer Quantity']\n"
          ]
        }
      ],
      "source": [
        "categorical_unique_value_limit = 100\n",
        "\n",
        "df_zero = df_valid.fillna(0)\n",
        "categorical_cols = []\n",
        "numerical_cols = []\n",
        "\n",
        "for col in df_zero.columns:\n",
        "  if np.array_equal(df_zero[col], df_zero[col].astype(\"int\")) and df[col].nunique() < categorical_unique_value_limit:\n",
        "    categorical_cols.append(col)\n",
        "\n",
        "    \n",
        "for col in df_zero.columns:\n",
        "  if not ( np.array_equal(df_zero[col], df_zero[col].astype(\"int\")) and df[col].nunique() < categorical_unique_value_limit):\n",
        "    numerical_cols.append(col)\n",
        "\n",
        "\n",
        "print(\"Categorical Values (Nominal)\")\n",
        "print(categorical_cols, end=\"\\n\\n\")\n",
        "\n",
        "print(\"Categorical Values (Nominal)\")\n",
        "print(numerical_cols)\n"
      ]
    },
    {
      "cell_type": "code",
      "execution_count": 463,
      "metadata": {
        "colab": {
          "base_uri": "https://localhost:8080/"
        },
        "id": "FqslOY7qqeSi",
        "outputId": "6e589f4c-d941-43e9-e3de-a0cb8f74d47e"
      },
      "outputs": [
        {
          "output_type": "execute_result",
          "data": {
            "text/plain": [
              "Region                                                               0\n",
              "Zone                                                                 0\n",
              "District                                                             0\n",
              "Farmers Association                                                  0\n",
              "Enumeration Area                                                     0\n",
              "Household Id                                                         0\n",
              "Head sex                                                             0\n",
              "Sampling weight                                                      0\n",
              "Field type                                                           0\n",
              "CROP                                                                 0\n",
              "Ownership type                                                       0\n",
              "Is field under Extension Program?                                    0\n",
              "Is Field Irrigated?                                                  0\n",
              "How many times is the field ploughed                                 0\n",
              "Orientation of the field                                             0\n",
              "Is Field Prevented form Erosion                                      0\n",
              "If field Prevented form Erosion, common way of prevention        24214\n",
              "Do youprevent land Degradation                                       0\n",
              "Method to prevent land degredation                               22881\n",
              "Type of sowing                                                       0\n",
              "Seed / Seedling Type                                                 0\n",
              "Quantity of indigenous seeds used                                14505\n",
              "Was crop damaged ?                                                   0\n",
              "Prevention/precaution measure taken?                                 0\n",
              "Type of measure if any?                                           9256\n",
              "Is Fertilizer Used?                                                  0\n",
              "Type of fertilizer used if any?                                  24868\n",
              "Type of chemical fertilizer                                      40997\n",
              "Quantity of UREA fertilizer used                                     0\n",
              "Quantity of DAP fertilizer used                                      0\n",
              "Quantity of NPS fertilizer used,                                     0\n",
              "Quantity of BLENDED fertilizer used                                  0\n",
              "How often is temporary crop field used in Meher (main) season        0\n",
              "What was the previous state of the field ?                           0\n",
              "Percent share of mixed crops                                         0\n",
              "Area in Square meter                                                 0\n",
              "Respondent local area                                              783\n",
              "Holder Condition                                                     0\n",
              "Production Of Condition in Kg                                        0\n",
              "Fertilizer Quantity                                                  0\n",
              "dtype: int64"
            ]
          },
          "metadata": {},
          "execution_count": 463
        }
      ],
      "source": [
        "df_valid.isna().sum()"
      ]
    },
    {
      "cell_type": "code",
      "execution_count": 464,
      "metadata": {
        "colab": {
          "base_uri": "https://localhost:8080/"
        },
        "id": "CXNXY5lxsRji",
        "outputId": "101c493f-8ab7-48ff-f30a-0e17945b526f"
      },
      "outputs": [
        {
          "output_type": "execute_result",
          "data": {
            "text/plain": [
              "Region                                                           0\n",
              "Zone                                                             0\n",
              "District                                                         0\n",
              "Farmers Association                                              0\n",
              "Enumeration Area                                                 0\n",
              "Head sex                                                         0\n",
              "Field type                                                       0\n",
              "CROP                                                             0\n",
              "Ownership type                                                   0\n",
              "Is field under Extension Program?                                0\n",
              "Is Field Irrigated?                                              0\n",
              "How many times is the field ploughed                             0\n",
              "Orientation of the field                                         0\n",
              "Is Field Prevented form Erosion                                  0\n",
              "If field Prevented form Erosion, common way of prevention        0\n",
              "Do youprevent land Degradation                                   0\n",
              "Method to prevent land degredation                               0\n",
              "Type of sowing                                                   0\n",
              "Seed / Seedling Type                                             0\n",
              "Was crop damaged ?                                               0\n",
              "Prevention/precaution measure taken?                             0\n",
              "Type of measure if any?                                          0\n",
              "Is Fertilizer Used?                                              0\n",
              "Type of fertilizer used if any?                                  0\n",
              "Type of chemical fertilizer                                      0\n",
              "How often is temporary crop field used in Meher (main) season    0\n",
              "What was the previous state of the field ?                       0\n",
              "Percent share of mixed crops                                     0\n",
              "Household Id                                                     0\n",
              "Sampling weight                                                  0\n",
              "Quantity of indigenous seeds used                                0\n",
              "Quantity of UREA fertilizer used                                 0\n",
              "Quantity of DAP fertilizer used                                  0\n",
              "Quantity of NPS fertilizer used,                                 0\n",
              "Quantity of BLENDED fertilizer used                              0\n",
              "Area in Square meter                                             0\n",
              "Respondent local area                                            0\n",
              "Holder Condition                                                 0\n",
              "Production Of Condition in Kg                                    0\n",
              "Fertilizer Quantity                                              0\n",
              "dtype: int64"
            ]
          },
          "metadata": {},
          "execution_count": 464
        }
      ],
      "source": [
        "from sklearn.impute import SimpleImputer\n",
        "\n",
        "imputer = Pipeline([(\"imputer\", SimpleImputer(strategy=\"most_frequent\")),\n",
        "                    (\"pandarizer\",FunctionTransformer(lambda x: pd.DataFrame(x, columns = categorical_cols)))])\n",
        "df_categorical = imputer.fit_transform(df_valid[categorical_cols])\n",
        "\n",
        "imputer = Pipeline([(\"imputer\", SimpleImputer(strategy=\"mean\")),\n",
        "                    (\"pandarizer\",FunctionTransformer(lambda x: pd.DataFrame(x, columns = numerical_cols)))])\n",
        "df_numerical = imputer.fit_transform(df_valid[numerical_cols])\n",
        "\n",
        "df_clean = df_categorical.join(df_numerical)\n",
        "\n",
        "df_clean.isna().sum()"
      ]
    },
    {
      "cell_type": "code",
      "execution_count": 465,
      "metadata": {
        "id": "Dk6XeRr47teF"
      },
      "outputs": [],
      "source": [
        "if year == \"2013\":\n",
        "  df_clean.rename(columns = {'AREA':'Area in Square meter'}, inplace = True)\n",
        "  df_clean\n",
        "\n",
        "if year == \"2012\":\n",
        "  df_clean.rename(columns = {'Computed Area':'Area in Square meter'}, inplace = True)\n",
        "  df_clean.rename(columns = {'PRODUCTION':'Production Of Condition in Kg'}, inplace = True)\n",
        "  df_clean[\"Production Of Condition in Kg\"] = (df_clean[\"Production Of Condition in Kg\"] / 1000)\n",
        "  df_clean\n",
        "\n",
        "if year == \"2011\":\n",
        "  df_clean.rename(columns = {'Area in Hectare':'Area in Square meter'}, inplace = True)\n",
        "  df_clean.rename(columns = {'PRODUCTION IN QUINTALS':'Production Of Condition in Kg'}, inplace = True)\n",
        "  df_clean[\"Production Of Condition in Kg\"] = (df_clean[\"Production Of Condition in Kg\"] * 100)\n",
        "  df_clean[\"Area in Square meter\"] = (df_clean[\"Area in Square meter\"] * 10000)\n",
        "  df_clean\n",
        "\n",
        "if year == \"2010\":\n",
        "  df_clean.rename(columns = {'AREAH':'Area in Square meter'}, inplace = True)\n",
        "  df_clean.rename(columns = {'PRODUCTION IN QUINTALS':'Production Of Condition in Kg'}, inplace = True)\n",
        "  df_clean[\"Production Of Condition in Kg\"] = (df_clean[\"Production Of Condition in Kg\"] * 100)\n",
        "  df_clean[\"Area in Square meter\"] = (df_clean[\"Area in Square meter\"] * 10000)\n",
        "  df_clean\n",
        "\n",
        "if year == \"2009\":\n",
        "  df_clean.rename(columns = {'Crop or Landuse':'CROP'}, inplace = True)\n",
        "  df_clean.rename(columns = {'Area in hectare':'Area in Square meter'}, inplace = True)\n",
        "  df_clean.rename(columns = {'Production in Quintal':'Production Of Condition in Kg'}, inplace = True)\n",
        "  df_clean[\"Production Of Condition in Kg\"] = (df_clean[\"Production Of Condition in Kg\"] * 100)\n",
        "  df_clean[\"Area in Square meter\"] = (df_clean[\"Area in Square meter\"] * 10000)\n",
        "  df_clean\n",
        "\n",
        "if year == \"2008\":\n",
        "  df_clean.rename(columns = {'Crop or Land Use':'CROP'}, inplace = True)\n",
        "  df_clean.rename(columns = {'Area (sq. m.)':'Area in Square meter'}, inplace = True)\n",
        "  df_clean.rename(columns = {'Production in Quintal':'Production Of Condition in Kg'}, inplace = True)\n",
        "  df_clean[\"Production Of Condition in Kg\"] = (df_clean[\"Production Of Condition in Kg\"] * 100)\n",
        "  df_clean\n",
        "\n",
        "if year == \"2007\":\n",
        "  df_clean.rename(columns = {'Area in Hectare':'Area in Square meter'}, inplace = True)\n",
        "  df_clean.rename(columns = {'Production in Quintal':'Production Of Condition in Kg'}, inplace = True)\n",
        "  df_clean[\"Production Of Condition in Kg\"] = (df_clean[\"Production Of Condition in Kg\"] * 100)\n",
        "  df_clean[\"Area in Square meter\"] = (df_clean[\"Area in Square meter\"] * 10000)\n",
        "  df_clean\n",
        "\n",
        "if year == \"2006\":\n",
        "  df_clean.rename(columns = {'Killil':'Region'}, inplace = True)\n",
        "  df_clean.rename(columns = {'Wereda':'District'}, inplace = True)\n",
        "  df_clean.rename(columns = {'Area in hectar':'Area in Square meter'}, inplace = True)\n",
        "  df_clean.rename(columns = {'Production in Quintal':'Production Of Condition in Kg'}, inplace = True)\n",
        "  df_clean[\"Production Of Condition in Kg\"] = (df_clean[\"Production Of Condition in Kg\"] * 100)\n",
        "  df_clean[\"Area in Square meter\"] = (df_clean[\"Area in Square meter\"] * 10000)\n",
        "  df_clean\n",
        "\n",
        "if year == \"2005\":\n",
        "  df_clean.rename(columns = {'Killil':'Region'}, inplace = True)\n",
        "  df_clean.rename(columns = {'Wereda':'District'}, inplace = True)\n",
        "  df_clean.rename(columns = {'Crop or Land Use':'CROP'}, inplace = True)\n",
        "  df_clean.rename(columns = {'Area (sq. m.)':'Area in Square meter'}, inplace = True)\n",
        "  df_clean.rename(columns = {'Production in Quintal':'Production Of Condition in Kg'}, inplace = True)\n",
        "  df_clean[\"Production Of Condition in Kg\"] = (df_clean[\"Production Of Condition in Kg\"] * 100)\n",
        "  df_clean\n",
        "\n",
        "if year == \"2004\":\n",
        "  df_clean.rename(columns = {'District(Wereda)':'District'}, inplace = True)\n",
        "  df_clean.rename(columns = {'Crop or Land Use':'CROP'}, inplace = True)\n",
        "  df_clean.rename(columns = {'Area (sq. m.)':'Area in Square meter'}, inplace = True)\n",
        "  df_clean.rename(columns = {'Dry Weight Production (kg.)':'Production Of Condition in Kg'}, inplace = True)\n",
        "  df_clean\n"
      ]
    },
    {
      "cell_type": "markdown",
      "metadata": {
        "id": "VqDKZzbrihjH"
      },
      "source": [
        ""
      ]
    },
    {
      "cell_type": "code",
      "execution_count": 466,
      "metadata": {
        "colab": {
          "base_uri": "https://localhost:8080/"
        },
        "id": "ZHFFYx9xtzbq",
        "outputId": "288fae79-8c7f-4b0d-e8ed-26bc9f6c13d0"
      },
      "outputs": [
        {
          "output_type": "stream",
          "name": "stdout",
          "text": [
            "Barley (12024, 40)\n",
            "Maize (31862, 40)\n",
            "Sorghum (15642, 40)\n",
            "Teff (23409, 40)\n",
            "Wheat (14943, 40)\n",
            "\n",
            "Total: 97880\n"
          ]
        }
      ],
      "source": [
        "df_1 = df_clean[df_clean[\"CROP\"] == 1]\n",
        "df_2 = df_clean[df_clean[\"CROP\"] == 2]\n",
        "df_6 = df_clean[df_clean[\"CROP\"] == 6]\n",
        "df_7 = df_clean[df_clean[\"CROP\"] == 7]\n",
        "df_8 = df_clean[df_clean[\"CROP\"] == 8]\n",
        "\n",
        "print(crop_1, df_1.shape)\n",
        "print(crop_2, df_2.shape)\n",
        "print(crop_6, df_6.shape)\n",
        "print(crop_7, df_7.shape)\n",
        "print(crop_8, df_8.shape)\n",
        "print(\"\\nTotal:\", df_1.shape[0] + df_2.shape[0] + df_6.shape[0] + df_7.shape[0] + df_8.shape[0])"
      ]
    },
    {
      "cell_type": "code",
      "execution_count": 467,
      "metadata": {
        "id": "j9jEuDpxtzWR"
      },
      "outputs": [],
      "source": [
        "df_1.to_csv(f\"{path}Clean_Meher_{year}_{crop_1}.csv\")\n",
        "df_2.to_csv(f\"{path}Clean_Meher_{year}_{crop_2}.csv\")\n",
        "df_6.to_csv(f\"{path}Clean_Meher_{year}_{crop_6}.csv\")\n",
        "df_7.to_csv(f\"{path}Clean_Meher_{year}_{crop_7}.csv\")\n",
        "df_8.to_csv(f\"{path}Clean_Meher_{year}_{crop_8}.csv\")"
      ]
    },
    {
      "cell_type": "code",
      "execution_count": 468,
      "metadata": {
        "colab": {
          "base_uri": "https://localhost:8080/"
        },
        "id": "Si3G-K9fuZpK",
        "outputId": "67d8771b-b7ab-470b-fafb-310c0fdab7eb"
      },
      "outputs": [
        {
          "output_type": "stream",
          "name": "stdout",
          "text": [
            "2021\n",
            "* * * * * * * * * * * * * * * * * * * * * * * * * * * * * * * * * * * * * * * * * * * * * * * * * * * * * * * * * * * * * * * * * * * * * * * * * * * * * * * * \n",
            "* * * * * * * * * * * * * * * * * * * * * * * * * * * * * * * * * * * * * * * * * * * * * * * * * * * * * * * * * * * * * * * * * * * * * * * * * * * * * * * * \n",
            "\n"
          ]
        }
      ],
      "source": [
        "print(year)\n",
        "print(2*f\"{80*'* '}\\n\")"
      ]
    }
  ],
  "metadata": {
    "colab": {
      "collapsed_sections": [],
      "name": "Preprocessing.ipynb",
      "toc_visible": true,
      "provenance": []
    },
    "kernelspec": {
      "display_name": "Python 3",
      "name": "python3"
    },
    "language_info": {
      "name": "python"
    }
  },
  "nbformat": 4,
  "nbformat_minor": 0
}